{
 "cells": [
  {
   "cell_type": "code",
   "execution_count": 1,
   "metadata": {},
   "outputs": [],
   "source": [
    "import numpy as np\n",
    "import pandas as pd\n",
    "from sklearn.model_selection import train_test_split"
   ]
  },
  {
   "cell_type": "code",
   "execution_count": 2,
   "metadata": {},
   "outputs": [
    {
     "data": {
      "text/html": [
       "<div>\n",
       "<style scoped>\n",
       "    .dataframe tbody tr th:only-of-type {\n",
       "        vertical-align: middle;\n",
       "    }\n",
       "\n",
       "    .dataframe tbody tr th {\n",
       "        vertical-align: top;\n",
       "    }\n",
       "\n",
       "    .dataframe thead th {\n",
       "        text-align: right;\n",
       "    }\n",
       "</style>\n",
       "<table border=\"1\" class=\"dataframe\">\n",
       "  <thead>\n",
       "    <tr style=\"text-align: right;\">\n",
       "      <th></th>\n",
       "      <th>SepalLength</th>\n",
       "      <th>SepalWidth</th>\n",
       "      <th>PetalLength</th>\n",
       "      <th>PetalWidth</th>\n",
       "    </tr>\n",
       "    <tr>\n",
       "      <th>Class</th>\n",
       "      <th></th>\n",
       "      <th></th>\n",
       "      <th></th>\n",
       "      <th></th>\n",
       "    </tr>\n",
       "  </thead>\n",
       "  <tbody>\n",
       "    <tr>\n",
       "      <th>Iris-setosa</th>\n",
       "      <td>5.006</td>\n",
       "      <td>3.418</td>\n",
       "      <td>1.464</td>\n",
       "      <td>0.244</td>\n",
       "    </tr>\n",
       "    <tr>\n",
       "      <th>Iris-versicolor</th>\n",
       "      <td>5.936</td>\n",
       "      <td>2.770</td>\n",
       "      <td>4.260</td>\n",
       "      <td>1.326</td>\n",
       "    </tr>\n",
       "    <tr>\n",
       "      <th>Iris-virginica</th>\n",
       "      <td>6.588</td>\n",
       "      <td>2.974</td>\n",
       "      <td>5.552</td>\n",
       "      <td>2.026</td>\n",
       "    </tr>\n",
       "  </tbody>\n",
       "</table>\n",
       "</div>"
      ],
      "text/plain": [
       "                 SepalLength  SepalWidth  PetalLength  PetalWidth\n",
       "Class                                                            \n",
       "Iris-setosa            5.006       3.418        1.464       0.244\n",
       "Iris-versicolor        5.936       2.770        4.260       1.326\n",
       "Iris-virginica         6.588       2.974        5.552       2.026"
      ]
     },
     "execution_count": 2,
     "metadata": {},
     "output_type": "execute_result"
    }
   ],
   "source": [
    "iris=pd.read_csv(\"iris.data\",header=None)\n",
    "iris.columns=['SepalLength','SepalWidth','PetalLength','PetalWidth','Class']\n",
    "#iris=iris.drop(iris['Class'=='Iris-setosa'])\n",
    "iris.groupby('Class').mean()"
   ]
  },
  {
   "cell_type": "code",
   "execution_count": 3,
   "metadata": {},
   "outputs": [],
   "source": [
    "iris=(iris[iris.Class!='Iris-setosa'])\n",
    "#taking only 2 classes that have overlap the other class can be easily distinguished because the differeneces are big"
   ]
  },
  {
   "cell_type": "code",
   "execution_count": 4,
   "metadata": {},
   "outputs": [
    {
     "data": {
      "text/plain": [
       "{'Iris-versicolor': 1,\n",
       " 'Iris-virginica': 0,\n",
       " 1: 'Iris-versicolor',\n",
       " 0: 'Iris-virginica'}"
      ]
     },
     "execution_count": 4,
     "metadata": {},
     "output_type": "execute_result"
    }
   ],
   "source": [
    "classes={'Iris-versicolor':1,'Iris-virginica':0,1:'Iris-versicolor',0:'Iris-virginica'}\n",
    "#i have coded classes to 0,1 so that i ahve only 2 classes\n",
    "classes"
   ]
  },
  {
   "cell_type": "code",
   "execution_count": 5,
   "metadata": {},
   "outputs": [],
   "source": [
    "classy=iris['Class']\n",
    "classy=classy.replace(classes)"
   ]
  },
  {
   "cell_type": "code",
   "execution_count": 6,
   "metadata": {},
   "outputs": [],
   "source": [
    "X_train,X_test,y_train,y_test=train_test_split(iris.drop(['Class'],axis=1),classy,test_size=0.25, random_state=42)\n",
    "#here i set test_set=20%"
   ]
  },
  {
   "cell_type": "code",
   "execution_count": 7,
   "metadata": {},
   "outputs": [
    {
     "data": {
      "text/plain": [
       "array([1, 1, 0, 1, 0, 1, 1, 0, 1, 0, 1, 0, 0, 1, 1, 1, 1, 1, 0, 1, 1, 0,\n",
       "       1, 0, 1, 1, 1, 1, 1, 1, 0, 1, 0, 1, 0, 0, 0, 0, 1, 0, 0, 1, 0, 0,\n",
       "       0, 0, 1, 0, 1, 0, 0, 0, 1, 0, 0, 0, 0, 1, 1, 1, 0, 1, 1, 1, 0, 0,\n",
       "       0, 0, 0, 1, 0, 0, 1, 0, 0], dtype=int64)"
      ]
     },
     "execution_count": 7,
     "metadata": {},
     "output_type": "execute_result"
    }
   ],
   "source": [
    "XM=X_train.mean(axis=0)\n",
    "XM=XM.to_numpy()\n",
    "XS=X_train.std(axis=0)\n",
    "XS=XS.to_numpy()\n",
    "#XS=XS-XM\n",
    "Y=y_train.copy()\n",
    "#Y.replace(2,1)\n",
    "Y=Y.to_numpy()\n",
    "Y"
   ]
  },
  {
   "cell_type": "code",
   "execution_count": 8,
   "metadata": {},
   "outputs": [],
   "source": [
    "X_train=X_train-XM\n",
    "X=X_train/XS\n",
    "#normalizing training data"
   ]
  },
  {
   "cell_type": "code",
   "execution_count": 9,
   "metadata": {},
   "outputs": [
    {
     "data": {
      "text/plain": [
       "(75, 4)"
      ]
     },
     "execution_count": 9,
     "metadata": {},
     "output_type": "execute_result"
    }
   ],
   "source": [
    "X=X.to_numpy()\n",
    "X.shape"
   ]
  },
  {
   "cell_type": "code",
   "execution_count": 10,
   "metadata": {},
   "outputs": [],
   "source": [
    "def hypothesis(theta,F):\n",
    "    d=np.dot(theta,F)\n",
    "    if(d>=0):\n",
    "        return 1\n",
    "    else:\n",
    "        return 0"
   ]
  },
  {
   "cell_type": "code",
   "execution_count": 11,
   "metadata": {},
   "outputs": [],
   "source": [
    "#this function makes the feature vector of a given data point\n",
    "def make_feature(s):\n",
    "    sigma=0.65\n",
    "    F=np.array([])\n",
    "    F=np.append(F,1)\n",
    "    #appending the feature vector with as intercept\n",
    "    for x in X:\n",
    "        F=np.append(F,np.exp(-np.square(np.linalg.norm(s-x))/(2*(sigma))))\n",
    "    return F"
   ]
  },
  {
   "cell_type": "code",
   "execution_count": 12,
   "metadata": {},
   "outputs": [],
   "source": [
    "#this function is used to calculate derivative cost function to minimize the cost between actual and predicted value\n",
    "def dcf(theta,X):\n",
    "    C=10000000\n",
    "    s=0.0\n",
    "    m=X.shape[0]\n",
    "    for i in range(X.shape[0]):\n",
    "        s+=(hypothesis(theta,make_feature(X[i]))-Y[i])\n",
    "    s*=C\n",
    "    s+=(np.dot(theta,theta)/2)\n",
    "    s=(s/m)\n",
    "    return s"
   ]
  },
  {
   "cell_type": "code",
   "execution_count": 13,
   "metadata": {},
   "outputs": [],
   "source": [
    "def train_SVM(thetas):\n",
    "    alpha=0.0001\n",
    "    theta_new = np.zeros_like(thetas)\n",
    "    theta2=theta_new\n",
    "    nid=0\n",
    "    thetas = theta_new\n",
    "    for i in range( X.shape[0]):\n",
    "        d=dcf(theta_new,X)\n",
    "        ##gradient_descent \n",
    "        theta2[i] = theta2[i]-alpha*d\n",
    "    theta_new=theta2\n",
    "    return theta_new"
   ]
  },
  {
   "cell_type": "code",
   "execution_count": 14,
   "metadata": {},
   "outputs": [
    {
     "data": {
      "text/plain": [
       "array([-520.        ,  479.81973333,  479.66624868,  479.51286221,\n",
       "        479.35957382,  412.53971675,  412.42625741,  198.97952713,\n",
       "        132.28646523,  132.27479875,  132.26313434,  132.25147198,\n",
       "        132.23981168,  132.22815343,  132.21649724,  105.53817644,\n",
       "        105.53075091,  105.52332641,   78.8492363 ,   78.8450915 ,\n",
       "         78.84094713,   52.17013653,   52.16832205,   52.1665077 ,\n",
       "         52.16469347,   38.82954603,   38.82854087,   38.82753577,\n",
       "         38.82653072,   38.82552572,   38.82452077,   38.82351588,\n",
       "         25.4891777 ,   25.48874457,   25.48831145,   25.48787835,\n",
       "         25.48744526,   -1.17965448,   -1.17965541,   -1.17965634,\n",
       "         -1.17965726,   -1.17965819,   -1.17965912,   -1.17966005,\n",
       "         -1.17966098,   -1.1796619 ,   -1.17966283,   -1.17966376,\n",
       "         -1.17966469,   -1.17966561,   -1.17966654,   -1.17966747,\n",
       "         -1.1796684 ,   -1.17966933,   -1.17967025,   -1.17967118,\n",
       "         -1.17967211,   25.48699363,   -1.18010609,   -1.18010702,\n",
       "         -1.18010795,   -1.18010888,   -1.18010981,   -1.18011074,\n",
       "         -1.18011166,   -1.18011259,   -1.18011352,   -1.18011445,\n",
       "         -1.18011538,   -1.18011631,   -1.18011724,   -1.18011816,\n",
       "         -1.18011909,   -1.18012002,   -1.18012095,    0.        ])"
      ]
     },
     "execution_count": 14,
     "metadata": {},
     "output_type": "execute_result"
    }
   ],
   "source": [
    "theta=train_SVM(np.ones(X.shape[0]+1))\n",
    "theta"
   ]
  },
  {
   "cell_type": "code",
   "execution_count": 15,
   "metadata": {},
   "outputs": [],
   "source": [
    "X_T=(X_test.to_numpy()-XM)/XS\n",
    "#normalizing the test set according to the training set\n",
    "#remember it is important to normalize the test set according to the training data and that too after splittling \n",
    "#because otherwise the information about test set is revealed to the training data and that can affect the model training"
   ]
  },
  {
   "cell_type": "code",
   "execution_count": 16,
   "metadata": {},
   "outputs": [
    {
     "name": "stdout",
     "output_type": "stream",
     "text": [
      "16 9\n"
     ]
    }
   ],
   "source": [
    "right=0\n",
    "wrong=0\n",
    "#this loop is to test the model \n",
    "for i,x in enumerate(X_T):\n",
    "    #print(y_test.iloc[i])\n",
    "    if(hypothesis(theta,make_feature(x))==y_test.iloc[i]):\n",
    "        right+=1\n",
    "    else:\n",
    "        wrong+=1\n",
    "print(right,wrong)"
   ]
  },
  {
   "cell_type": "code",
   "execution_count": 17,
   "metadata": {},
   "outputs": [
    {
     "data": {
      "text/plain": [
       "80.0"
      ]
     },
     "execution_count": 17,
     "metadata": {},
     "output_type": "execute_result"
    }
   ],
   "source": [
    "right/20*100\n",
    "#this is the model accuracy"
   ]
  },
  {
   "cell_type": "code",
   "execution_count": null,
   "metadata": {},
   "outputs": [],
   "source": []
  }
 ],
 "metadata": {
  "kernelspec": {
   "display_name": "Python 3",
   "language": "python",
   "name": "python3"
  },
  "language_info": {
   "codemirror_mode": {
    "name": "ipython",
    "version": 3
   },
   "file_extension": ".py",
   "mimetype": "text/x-python",
   "name": "python",
   "nbconvert_exporter": "python",
   "pygments_lexer": "ipython3",
   "version": "3.7.7"
  }
 },
 "nbformat": 4,
 "nbformat_minor": 4
}
